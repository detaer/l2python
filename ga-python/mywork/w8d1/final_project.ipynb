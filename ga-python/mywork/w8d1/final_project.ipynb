{
 "cells": [
  {
   "cell_type": "code",
   "execution_count": 22,
   "metadata": {},
   "outputs": [
    {
     "name": "stdout",
     "output_type": "stream",
     "text": [
      "30\n"
     ]
    }
   ],
   "source": [
    "import pandas as pd\n",
    "import matplotlib\n",
    "import requests\n",
    "\n",
    "GitHubUserURLBase = \"https://api.github.com/users/\"\n",
    "GitHubPublicEvents = \"/events/public\"\n",
    "\n",
    "#Create method a get user info\n",
    "def GetGitHubUserInfo(GitHubUser):\n",
    "    UserInfo = requests.get(GitHubUserURLBase + GitHubUser)\n",
    "    UserInfoUsable = UserInfo.json()\n",
    "    return(UserInfoUsable)\n",
    "    \n",
    "# print(GetGitHubUserInfo(\"detaer\"))\n",
    "\n",
    "#Create a method to verify if a github user exists\n",
    "def VerifyGitHubUser(GitHubUser):\n",
    "    UserInfo = GetGitHubUserInfo(GitHubUser)\n",
    "    if 'login' in UserInfo:\n",
    "        return(\"User_Exists\")\n",
    "    elif 'message' in UserInfo:\n",
    "        return(\"User_Does_Not_Exist\")\n",
    "    else:\n",
    "        return(\"You_Screwed_Up\")\n",
    "    \n",
    "# print(VerifyGitHubUser(\"detaer\"))\n",
    "\n",
    "#define a method to get as many events from a public user's activity as we can.\n",
    "def GetGitHubUserAcivity(GitHubUser):\n",
    "    UserActivity = requests.get(GitHubUserURLBase + GitHubUser + GitHubPublicEvents)\n",
    "    UserActivityUsable = UserActivity.json()\n",
    "    return(UserActivityUsable)\n",
    "    \n",
    "GitHubUserEvents = GetGitHubUserAcivity(\"detaer\")\n",
    "print(len(GitHubUserEvents))"
   ]
  }
 ],
 "metadata": {
  "kernelspec": {
   "display_name": "Python 3",
   "language": "python",
   "name": "python3"
  },
  "language_info": {
   "codemirror_mode": {
    "name": "ipython",
    "version": 3
   },
   "file_extension": ".py",
   "mimetype": "text/x-python",
   "name": "python",
   "nbconvert_exporter": "python",
   "pygments_lexer": "ipython3",
   "version": "3.7.2"
  }
 },
 "nbformat": 4,
 "nbformat_minor": 2
}
