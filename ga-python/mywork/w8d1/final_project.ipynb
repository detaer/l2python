{
 "cells": [
  {
   "cell_type": "code",
   "execution_count": 37,
   "metadata": {},
   "outputs": [
    {
     "ename": "SyntaxError",
     "evalue": "invalid syntax (<ipython-input-37-de97b53c6dc1>, line 52)",
     "output_type": "error",
     "traceback": [
      "\u001b[0;36m  File \u001b[0;32m\"<ipython-input-37-de97b53c6dc1>\"\u001b[0;36m, line \u001b[0;32m52\u001b[0m\n\u001b[0;31m    Class DataFrames(ListOfUserActivity):\u001b[0m\n\u001b[0m                   ^\u001b[0m\n\u001b[0;31mSyntaxError\u001b[0m\u001b[0;31m:\u001b[0m invalid syntax\n"
     ]
    }
   ],
   "source": [
    "import pandas as pd\n",
    "import matplotlib\n",
    "import requests\n",
    "\n",
    "GitHubUserURLBase = \"https://api.github.com/users/\"\n",
    "GitHubPublicEvents = \"/events/public\"\n",
    "\n",
    "class GitHubUser:\n",
    "    def __init__(self, username):\n",
    "        self.username = username\n",
    "    def get_github_user(self):\n",
    "        UserInfo = requests.get(GitHubUserURLBase + self.username)\n",
    "        UserInfoUsable = UserInfo.json()\n",
    "        return(UserInfoUsable)\n",
    "    def verify_github_user(self):\n",
    "        UserInfo = self.get_github_user()\n",
    "        if 'login' in UserInfo:\n",
    "            return(\"User_Exists\")\n",
    "        elif 'message' in UserInfo:\n",
    "            return(\"User_Does_Not_Exist\")\n",
    "        else:\n",
    "            return(\"You_Screwed_Up\")\n",
    "    def get_github_user_activity(self):\n",
    "    #    Page = 1\n",
    "    #    PageStr = str(Page)\n",
    "        UserActivity = requests.get(GitHubUserURLBase + self.username + GitHubPublicEvents ) # + \"?page=\" + PageStr\n",
    "        UserActivityPage = UserActivity.json()\n",
    "        return(UserActivityPage)\n",
    "# print(GetGitHubUserInfo(\"detaer\"))\n",
    "\n",
    "##Create a method to verify if a github user exists\n",
    "\n",
    "    \n",
    "# print(VerifyGitHubUser(\"tostadamanjim\"))\n",
    "\n",
    "##define a method to get as many events from a public user's activity as we can. \n",
    "##Going to have to do paginated requests then add the dictionaries together. \n",
    "##TODO make this request paginet all 10 pages of data\n",
    "def GetGitHubUserAcivity(GitHubUser):\n",
    "#    Page = 1\n",
    "#    PageStr = str(Page)\n",
    "    UserActivity = requests.get(GitHubUserURLBase + GitHubUser + GitHubPublicEvents ) # + \"?page=\" + PageStr\n",
    "    UserActivityPage = UserActivity.json()\n",
    "    return(UserActivityPage)\n",
    "    \n",
    "#  GitHubUserEvents = GetGitHubUserAcivity(\"detaer\")\n",
    "#  print(GitHubUserEvents)\n",
    "#  print(len(GitHubUserEvents))\n",
    "\n",
    "##Create an object to convert the github user events into a pandas dataframe and format it for two different uses\n",
    "## use 1 hourly activity, use 2 day of the week activity\n",
    "Class DataFrames(ListOfUserActivity):\n",
    "    \"\"\"\n",
    "    This class creates pandas dataframes\n",
    "    \"\"\"\n",
    "\n",
    "##create a method to plot the daily activity of a user week over week day over day then display it\n",
    "\n",
    "\n",
    "##create a method to plot the hourly activity of a user day over day then display it\n",
    "\n",
    "\n"
   ]
  },
  {
   "cell_type": "code",
   "execution_count": 38,
   "metadata": {},
   "outputs": [
    {
     "ename": "SyntaxError",
     "evalue": "can't assign to function call (<ipython-input-38-b04454a16708>, line 7)",
     "output_type": "error",
     "traceback": [
      "\u001b[0;36m  File \u001b[0;32m\"<ipython-input-38-b04454a16708>\"\u001b[0;36m, line \u001b[0;32m7\u001b[0m\n\u001b[0;31m    GetGitHubUserinfo(UserName) = User_Exists\u001b[0m\n\u001b[0m    ^\u001b[0m\n\u001b[0;31mSyntaxError\u001b[0m\u001b[0;31m:\u001b[0m can't assign to function call\n"
     ]
    }
   ],
   "source": [
    "##create main - this will need to take user input of the git hub username\n",
    "##TODO take the input as a string (can't figure this out right now)\n",
    "def main():\n",
    "    UserName = input(\"Enter the GitHub username of the person you want to creep on:\")\n",
    "##do a try except to throw an error if the user isn't real, if the user is real, grab their public activity\n",
    "    try:\n",
    "        GetGitHubUserinfo(UserName) = User_Exists\n",
    "    except:\n",
    "        print(\"Get better at stalking, that person isn't even real!\")\n",
    "\n",
    "\n",
    "if __name__ == '__main__':\n",
    "    main()"
   ]
  },
  {
   "cell_type": "code",
   "execution_count": 39,
   "metadata": {},
   "outputs": [
    {
     "ename": "NameError",
     "evalue": "name 'GitHubUser' is not defined",
     "output_type": "error",
     "traceback": [
      "\u001b[0;31m---------------------------------------------------------------------------\u001b[0m",
      "\u001b[0;31mNameError\u001b[0m                                 Traceback (most recent call last)",
      "\u001b[0;32m<ipython-input-39-4f3e7dc5902d>\u001b[0m in \u001b[0;36m<module>\u001b[0;34m()\u001b[0m\n\u001b[1;32m      1\u001b[0m \u001b[0mlist_of_users\u001b[0m \u001b[0;34m=\u001b[0m \u001b[0;34m[\u001b[0m\u001b[0;34m'detaer'\u001b[0m\u001b[0;34m,\u001b[0m \u001b[0;34m'cpleasants'\u001b[0m\u001b[0;34m]\u001b[0m\u001b[0;34m\u001b[0m\u001b[0;34m\u001b[0m\u001b[0m\n\u001b[1;32m      2\u001b[0m \u001b[0;32mfor\u001b[0m \u001b[0muser\u001b[0m \u001b[0;32min\u001b[0m \u001b[0mlist_of_users\u001b[0m\u001b[0;34m:\u001b[0m\u001b[0;34m\u001b[0m\u001b[0;34m\u001b[0m\u001b[0m\n\u001b[0;32m----> 3\u001b[0;31m     \u001b[0mthis_user\u001b[0m \u001b[0;34m=\u001b[0m \u001b[0mGitHubUser\u001b[0m\u001b[0;34m(\u001b[0m\u001b[0muser\u001b[0m\u001b[0;34m)\u001b[0m\u001b[0;34m\u001b[0m\u001b[0;34m\u001b[0m\u001b[0m\n\u001b[0m\u001b[1;32m      4\u001b[0m     \u001b[0mprint\u001b[0m\u001b[0;34m(\u001b[0m\u001b[0mthis_user\u001b[0m\u001b[0;34m.\u001b[0m\u001b[0mverify_github_user\u001b[0m\u001b[0;34m(\u001b[0m\u001b[0;34m)\u001b[0m\u001b[0;34m)\u001b[0m\u001b[0;34m\u001b[0m\u001b[0;34m\u001b[0m\u001b[0m\n",
      "\u001b[0;31mNameError\u001b[0m: name 'GitHubUser' is not defined"
     ]
    }
   ],
   "source": [
    "list_of_users = ['detaer', 'cpleasants']\n",
    "for user in list_of_users:\n",
    "    this_user = GitHubUser(user)\n",
    "    print(this_user.verify_github_user())"
   ]
  },
  {
   "cell_type": "code",
   "execution_count": null,
   "metadata": {},
   "outputs": [],
   "source": [
    "detaer = GitHubUser('detaer')\n",
    "cpleasants = GitHubUser('cpleasants')"
   ]
  }
 ],
 "metadata": {
  "kernelspec": {
   "display_name": "Python 3",
   "language": "python",
   "name": "python3"
  },
  "language_info": {
   "codemirror_mode": {
    "name": "ipython",
    "version": 3
   },
   "file_extension": ".py",
   "mimetype": "text/x-python",
   "name": "python",
   "nbconvert_exporter": "python",
   "pygments_lexer": "ipython3",
   "version": "3.7.2"
  }
 },
 "nbformat": 4,
 "nbformat_minor": 2
}
