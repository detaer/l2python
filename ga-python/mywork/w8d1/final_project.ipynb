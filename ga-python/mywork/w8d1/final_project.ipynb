{
 "cells": [
  {
   "cell_type": "code",
   "execution_count": 33,
   "metadata": {},
   "outputs": [
    {
     "name": "stdout",
     "output_type": "stream",
     "text": [
      "Getting events Page 1 of 10\n",
      "{'message': \"API rate limit exceeded for 136.24.165.200. (But here's the good news: Authenticated requests get a higher rate limit. Check out the documentation for more details.)\", 'documentation_url': 'https://developer.github.com/v3/#rate-limiting'}\n"
     ]
    },
    {
     "ename": "TypeError",
     "evalue": "can only concatenate list (not \"dict\") to list",
     "output_type": "error",
     "traceback": [
      "\u001b[0;31m---------------------------------------------------------------------------\u001b[0m",
      "\u001b[0;31mTypeError\u001b[0m                                 Traceback (most recent call last)",
      "\u001b[0;32m<ipython-input-33-1edea94ec6d2>\u001b[0m in \u001b[0;36m<module>\u001b[0;34m()\u001b[0m\n\u001b[1;32m     49\u001b[0m \u001b[0;34m\u001b[0m\u001b[0m\n\u001b[1;32m     50\u001b[0m \u001b[0mUser\u001b[0m \u001b[0;34m=\u001b[0m \u001b[0mGitHubUser\u001b[0m\u001b[0;34m(\u001b[0m\u001b[0;34m\"detaer\"\u001b[0m\u001b[0;34m)\u001b[0m\u001b[0;34m\u001b[0m\u001b[0;34m\u001b[0m\u001b[0m\n\u001b[0;32m---> 51\u001b[0;31m \u001b[0mUser\u001b[0m\u001b[0;34m.\u001b[0m\u001b[0mget_github_user_activity\u001b[0m\u001b[0;34m(\u001b[0m\u001b[0;34m)\u001b[0m\u001b[0;34m\u001b[0m\u001b[0;34m\u001b[0m\u001b[0m\n\u001b[0m\u001b[1;32m     52\u001b[0m \u001b[0;34m\u001b[0m\u001b[0m\n\u001b[1;32m     53\u001b[0m \u001b[0;32mdef\u001b[0m \u001b[0mUserActivityFrame\u001b[0m\u001b[0;34m(\u001b[0m\u001b[0muserevents\u001b[0m\u001b[0;34m)\u001b[0m\u001b[0;34m:\u001b[0m\u001b[0;34m\u001b[0m\u001b[0;34m\u001b[0m\u001b[0m\n",
      "\u001b[0;32m<ipython-input-33-1edea94ec6d2>\u001b[0m in \u001b[0;36mget_github_user_activity\u001b[0;34m(self)\u001b[0m\n\u001b[1;32m     43\u001b[0m             \u001b[0mUserActivityPage\u001b[0m \u001b[0;34m=\u001b[0m \u001b[0mUserActivity\u001b[0m\u001b[0;34m.\u001b[0m\u001b[0mjson\u001b[0m\u001b[0;34m(\u001b[0m\u001b[0;34m)\u001b[0m\u001b[0;34m\u001b[0m\u001b[0;34m\u001b[0m\u001b[0m\n\u001b[1;32m     44\u001b[0m             \u001b[0mprint\u001b[0m\u001b[0;34m(\u001b[0m\u001b[0mUserActivityPage\u001b[0m\u001b[0;34m)\u001b[0m\u001b[0;34m\u001b[0m\u001b[0;34m\u001b[0m\u001b[0m\n\u001b[0;32m---> 45\u001b[0;31m             \u001b[0mUserActivityList\u001b[0m \u001b[0;34m=\u001b[0m \u001b[0mUserActivityList\u001b[0m \u001b[0;34m+\u001b[0m \u001b[0mUserActivityPage\u001b[0m\u001b[0;34m\u001b[0m\u001b[0;34m\u001b[0m\u001b[0m\n\u001b[0m\u001b[1;32m     46\u001b[0m             \u001b[0mPageNumber\u001b[0m \u001b[0;34m+=\u001b[0m \u001b[0;36m1\u001b[0m\u001b[0;34m\u001b[0m\u001b[0;34m\u001b[0m\u001b[0m\n\u001b[1;32m     47\u001b[0m         \u001b[0mprint\u001b[0m\u001b[0;34m(\u001b[0m\u001b[0mlen\u001b[0m\u001b[0;34m(\u001b[0m\u001b[0mUserActivityList\u001b[0m\u001b[0;34m)\u001b[0m\u001b[0;34m)\u001b[0m\u001b[0;34m\u001b[0m\u001b[0;34m\u001b[0m\u001b[0m\n",
      "\u001b[0;31mTypeError\u001b[0m: can only concatenate list (not \"dict\") to list"
     ]
    }
   ],
   "source": [
    "import pandas as pd\n",
    "import matplotlib as plt\n",
    "import requests\n",
    "from datetime import timedelta\n",
    "\n",
    "GitHubUserURLBase = \"https://api.github.com/users/\"\n",
    "GitHubPublicEvents = \"/events/public\"\n",
    "\n",
    "class GitHubUser:\n",
    "    \"\"\"\n",
    "    Creates and github user object\n",
    "    method get_github_user_activity gets all public activity for a user for the last 90 days max 300 events\n",
    "    \"\"\"\n",
    "    def __init__(self, username):\n",
    "        self.username = username\n",
    "    def get_github_user(self):\n",
    "        \"\"\"\n",
    "        method get_github_user gets user details\n",
    "        \"\"\"\n",
    "        UserInfo = requests.get(GitHubUserURLBase + self.username)\n",
    "        UserInfoUsable = UserInfo.json()\n",
    "        return(UserInfoUsable)\n",
    "    def verify_github_user(self):\n",
    "        \"\"\"\n",
    "        method verify_github_user verifies the user exists\n",
    "        returns a error if user doesn't exist\n",
    "        \"\"\"\n",
    "        UserInfo = self.get_github_user()\n",
    "        if 'login' in UserInfo:\n",
    "            return(\"User_Exists\")\n",
    "        else:\n",
    "            raise ValueError(\"Not a valid GitHub user\")\n",
    "    def get_github_user_activity(self):\n",
    "        \"\"\"\n",
    "        returns the public activity for a user\n",
    "        \"\"\"\n",
    "        UserActivityList = []\n",
    "        PageNumber = 1\n",
    "        while PageNumber <= 10:\n",
    "            PageNumberStr = str(PageNumber)\n",
    "            print(\"Getting events Page \" + PageNumberStr + \" of 10\")\n",
    "            UserActivity = requests.get(GitHubUserURLBase + self.username + GitHubPublicEvents + \"?page=\" + PageNumberStr)\n",
    "            UserActivityPage = UserActivity.json()\n",
    "            print(UserActivityPage)\n",
    "            UserActivityList = UserActivityList + UserActivityPage\n",
    "            PageNumber += 1\n",
    "        print(len(UserActivityList))\n",
    "        return(UserActivityList)\n",
    "\n",
    "User = GitHubUser(\"detaer\")\n",
    "User.get_github_user_activity()\n",
    "    \n",
    "def UserActivityFrame(userevents):\n",
    "    ids = []\n",
    "    types = []\n",
    "    times = []\n",
    "    for activity in userevents:\n",
    "        ids.append(activity['id'])\n",
    "        types.append(activity['type'])\n",
    "        times.append(activity['created_at'])\n",
    "    df = pd.DataFrame({'id' : ids,\n",
    "         'type' : types,\n",
    "         'created_at' : times})\n",
    "    df['created_at'] = pd.to_datetime(df['created_at'])\n",
    "    df['created_at'] + timedelta(hours = 8)\n",
    "    df['hour_of_day'] = df.created_at.dt.hour\n",
    "    df['day_of_week'] = df.created_at.dt.dayofweek\n",
    "    return(df)\n",
    "\n",
    "\n",
    "# def main():\n",
    "#     UserName = str(input(\"Enter the GitHub username of the person you want to creep on:\"))\n",
    "#     User = GitHubUser(UserName)\n",
    "#     ##do a try except to throw an error if the user isn't real, if the user is real, grab their public activity\n",
    "#     try:\n",
    "#         TestUser = User.verify_github_user()\n",
    "#         print(TestUser)\n",
    "#         print(\"Working!\")\n",
    "#         UserEvents = User.get_github_user_activity()\n",
    "#         UserEventsDF = UserActivityFrame(UserEvents)\n",
    "#         print(UserEventsDF)\n",
    "#     except:\n",
    "#         print(\"User is not a valid github user!\")    \n",
    "\n",
    "# if __name__ == '__main__':\n",
    "#     main()\n"
   ]
  },
  {
   "cell_type": "code",
   "execution_count": null,
   "metadata": {},
   "outputs": [],
   "source": [
    "%matplotlib inline"
   ]
  }
 ],
 "metadata": {
  "kernelspec": {
   "display_name": "Python 3",
   "language": "python",
   "name": "python3"
  },
  "language_info": {
   "codemirror_mode": {
    "name": "ipython",
    "version": 3
   },
   "file_extension": ".py",
   "mimetype": "text/x-python",
   "name": "python",
   "nbconvert_exporter": "python",
   "pygments_lexer": "ipython3",
   "version": "3.7.2"
  }
 },
 "nbformat": 4,
 "nbformat_minor": 2
}
