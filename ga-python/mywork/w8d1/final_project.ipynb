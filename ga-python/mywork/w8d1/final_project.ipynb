{
 "cells": [
  {
   "cell_type": "code",
   "execution_count": 25,
   "metadata": {},
   "outputs": [
    {
     "name": "stdout",
     "output_type": "stream",
     "text": [
      "Enter the GitHub username of the person you want to creep on:detaerer\n",
      "User is not a valid github user!\n"
     ]
    }
   ],
   "source": [
    "import pandas as pd\n",
    "import matplotlib\n",
    "import requests\n",
    "\n",
    "GitHubUserURLBase = \"https://api.github.com/users/\"\n",
    "GitHubPublicEvents = \"/events/public\"\n",
    "\n",
    "class GitHubUser:\n",
    "    def __init__(self, username):\n",
    "        self.username = username\n",
    "    def get_github_user(self):\n",
    "        UserInfo = requests.get(GitHubUserURLBase + self.username)\n",
    "        UserInfoUsable = UserInfo.json()\n",
    "        return(UserInfoUsable)\n",
    "    def verify_github_user(self):\n",
    "        UserInfo = self.get_github_user()\n",
    "        if 'login' in UserInfo:\n",
    "            return(\"User_Exists\")\n",
    "        else:\n",
    "            raise ValueError(\"Not a valid GitHub user\")\n",
    "    def get_github_user_activity(self):\n",
    "        UserActivity = requests.get(GitHubUserURLBase + self.username + GitHubPublicEvents ) # + \"?page=\" + PageStr\n",
    "        UserActivityPage = UserActivity.json()\n",
    "        return(UserActivityPage)\n",
    "\n",
    "# detaer = GitHubUser('detaer')\n",
    "# detaeruser = detaer.get_github_user_activity()\n",
    "# print(detaeruser)\n",
    "\n",
    "##Create an object to convert the github user events into a pandas dataframe and format it for two different uses\n",
    "## use 1 hourly activity, use 2 day of the week activity\n",
    "\n",
    "\n",
    "##create a method to plot the daily activity of a user week over week day over day then display it\n",
    "\n",
    "\n",
    "##create a method to plot the hourly activity of a user day over day then display it\n",
    "\n",
    "##create main - this will need to take user input of the git hub username\n",
    "##TODO take the input as a string (can't figure this out right now)\n",
    "def main():\n",
    "    UserName = input(\"Enter the GitHub username of the person you want to creep on:\")\n",
    "    User = GitHubUser(UserName)\n",
    "    ##do a try except to throw an error if the user isn't real, if the user is real, grab their public activity\n",
    "    try:\n",
    "        TestUser = User.verify_github_user()\n",
    "        print(TestUser)\n",
    "    except:\n",
    "        print(\"User is not a valid github user!\")\n",
    "    \n",
    "    \n",
    "        \n",
    "\n",
    "if __name__ == '__main__':\n",
    "    main()\n"
   ]
  },
  {
   "cell_type": "code",
   "execution_count": 18,
   "metadata": {},
   "outputs": [
    {
     "name": "stdout",
     "output_type": "stream",
     "text": [
      "<Response [200]>\n"
     ]
    },
    {
     "ename": "NameError",
     "evalue": "name 'UserInfo' is not defined",
     "output_type": "error",
     "traceback": [
      "\u001b[0;31m---------------------------------------------------------------------------\u001b[0m",
      "\u001b[0;31mNameError\u001b[0m                                 Traceback (most recent call last)",
      "\u001b[0;32m<ipython-input-18-8e5d4bc80e7b>\u001b[0m in \u001b[0;36m<module>\u001b[0;34m()\u001b[0m\n\u001b[1;32m     21\u001b[0m         \u001b[0;32mreturn\u001b[0m\u001b[0;34m(\u001b[0m\u001b[0mUserActivityPage\u001b[0m\u001b[0;34m)\u001b[0m\u001b[0;34m\u001b[0m\u001b[0;34m\u001b[0m\u001b[0m\n\u001b[1;32m     22\u001b[0m \u001b[0;34m\u001b[0m\u001b[0m\n\u001b[0;32m---> 23\u001b[0;31m \u001b[0mprint\u001b[0m\u001b[0;34m(\u001b[0m\u001b[0mGitHubUser\u001b[0m\u001b[0;34m.\u001b[0m\u001b[0mget_github_user\u001b[0m\u001b[0;34m(\u001b[0m\u001b[0mdetaer\u001b[0m\u001b[0;34m)\u001b[0m\u001b[0;34m)\u001b[0m\u001b[0;34m\u001b[0m\u001b[0;34m\u001b[0m\u001b[0m\n\u001b[0m\u001b[1;32m     24\u001b[0m \u001b[0;31m# detaer = GitHubUser('detaer')\u001b[0m\u001b[0;34m\u001b[0m\u001b[0;34m\u001b[0m\u001b[0;34m\u001b[0m\u001b[0m\n\u001b[1;32m     25\u001b[0m \u001b[0;31m# detaeruser = detaer.get_github_user_activity()\u001b[0m\u001b[0;34m\u001b[0m\u001b[0;34m\u001b[0m\u001b[0;34m\u001b[0m\u001b[0m\n",
      "\u001b[0;32m<ipython-input-18-8e5d4bc80e7b>\u001b[0m in \u001b[0;36mget_github_user\u001b[0;34m(self)\u001b[0m\n\u001b[1;32m      8\u001b[0m     \u001b[0;32mdef\u001b[0m \u001b[0mget_github_user\u001b[0m\u001b[0;34m(\u001b[0m\u001b[0mself\u001b[0m\u001b[0;34m)\u001b[0m\u001b[0;34m:\u001b[0m\u001b[0;34m\u001b[0m\u001b[0;34m\u001b[0m\u001b[0m\n\u001b[1;32m      9\u001b[0m         \u001b[0mprint\u001b[0m\u001b[0;34m(\u001b[0m\u001b[0mrequests\u001b[0m\u001b[0;34m.\u001b[0m\u001b[0mget\u001b[0m\u001b[0;34m(\u001b[0m\u001b[0mGitHubUserURLBase\u001b[0m \u001b[0;34m+\u001b[0m \u001b[0mself\u001b[0m\u001b[0;34m.\u001b[0m\u001b[0musername\u001b[0m\u001b[0;34m)\u001b[0m\u001b[0;34m)\u001b[0m\u001b[0;34m\u001b[0m\u001b[0;34m\u001b[0m\u001b[0m\n\u001b[0;32m---> 10\u001b[0;31m         \u001b[0mUserInfoUsable\u001b[0m \u001b[0;34m=\u001b[0m \u001b[0mUserInfo\u001b[0m\u001b[0;34m.\u001b[0m\u001b[0mjson\u001b[0m\u001b[0;34m(\u001b[0m\u001b[0;34m)\u001b[0m\u001b[0;34m\u001b[0m\u001b[0;34m\u001b[0m\u001b[0m\n\u001b[0m\u001b[1;32m     11\u001b[0m         \u001b[0;32mreturn\u001b[0m\u001b[0;34m(\u001b[0m\u001b[0mUserInfoUsable\u001b[0m\u001b[0;34m)\u001b[0m\u001b[0;34m\u001b[0m\u001b[0;34m\u001b[0m\u001b[0m\n\u001b[1;32m     12\u001b[0m     \u001b[0;32mdef\u001b[0m \u001b[0mverify_github_user\u001b[0m\u001b[0;34m(\u001b[0m\u001b[0mself\u001b[0m\u001b[0;34m)\u001b[0m\u001b[0;34m:\u001b[0m\u001b[0;34m\u001b[0m\u001b[0;34m\u001b[0m\u001b[0m\n",
      "\u001b[0;31mNameError\u001b[0m: name 'UserInfo' is not defined"
     ]
    }
   ],
   "source": [
    "import requests\n",
    "GitHubUserURLBase = \"https://api.github.com/users/\"\n",
    "GitHubPublicEvents = \"/events/public\"\n",
    "\n",
    "class GitHubUser:\n",
    "    def __init__(self, username):\n",
    "        self.username = username\n",
    "    def get_github_user(self):\n",
    "        print(requests.get(GitHubUserURLBase + self.username))\n",
    "        UserInfoUsable = UserInfo.json()\n",
    "        return(UserInfoUsable)\n",
    "    def verify_github_user(self):\n",
    "        UserInfo = self.get_github_user()\n",
    "        if 'login' in UserInfo:\n",
    "            return(\"User_Exists\")\n",
    "        else:\n",
    "            return(\"Something_Broke\")\n",
    "    def get_github_user_activity(self):\n",
    "        UserActivity = requests.get(GitHubUserURLBase + self.username + GitHubPublicEvents ) # + \"?page=\" + PageStr\n",
    "        UserActivityPage = UserActivity.json()\n",
    "        return(UserActivityPage)\n",
    "\n",
    "print(GitHubUser.get_github_user(detaer))\n",
    "# detaer = GitHubUser('detaer')\n",
    "# detaeruser = detaer.get_github_user_activity()\n",
    "# print(detaeruser)"
   ]
  },
  {
   "cell_type": "code",
   "execution_count": 38,
   "metadata": {},
   "outputs": [
    {
     "ename": "SyntaxError",
     "evalue": "can't assign to function call (<ipython-input-38-b04454a16708>, line 7)",
     "output_type": "error",
     "traceback": [
      "\u001b[0;36m  File \u001b[0;32m\"<ipython-input-38-b04454a16708>\"\u001b[0;36m, line \u001b[0;32m7\u001b[0m\n\u001b[0;31m    GetGitHubUserinfo(UserName) = User_Exists\u001b[0m\n\u001b[0m    ^\u001b[0m\n\u001b[0;31mSyntaxError\u001b[0m\u001b[0;31m:\u001b[0m can't assign to function call\n"
     ]
    }
   ],
   "source": [
    "##create main - this will need to take user input of the git hub username\n",
    "##TODO take the input as a string (can't figure this out right now)\n",
    "def main():\n",
    "    UserName = input(\"Enter the GitHub username of the person you want to creep on:\")\n",
    "##do a try except to throw an error if the user isn't real, if the user is real, grab their public activity\n",
    "    try:\n",
    "        GetGitHubUserinfo(UserName) = User_Exists\n",
    "    except:\n",
    "        print(\"Get better at stalking, that person isn't even real!\")\n",
    "\n",
    "\n",
    "if __name__ == '__main__':\n",
    "    main()"
   ]
  },
  {
   "cell_type": "code",
   "execution_count": 39,
   "metadata": {},
   "outputs": [
    {
     "ename": "NameError",
     "evalue": "name 'GitHubUser' is not defined",
     "output_type": "error",
     "traceback": [
      "\u001b[0;31m---------------------------------------------------------------------------\u001b[0m",
      "\u001b[0;31mNameError\u001b[0m                                 Traceback (most recent call last)",
      "\u001b[0;32m<ipython-input-39-4f3e7dc5902d>\u001b[0m in \u001b[0;36m<module>\u001b[0;34m()\u001b[0m\n\u001b[1;32m      1\u001b[0m \u001b[0mlist_of_users\u001b[0m \u001b[0;34m=\u001b[0m \u001b[0;34m[\u001b[0m\u001b[0;34m'detaer'\u001b[0m\u001b[0;34m,\u001b[0m \u001b[0;34m'cpleasants'\u001b[0m\u001b[0;34m]\u001b[0m\u001b[0;34m\u001b[0m\u001b[0;34m\u001b[0m\u001b[0m\n\u001b[1;32m      2\u001b[0m \u001b[0;32mfor\u001b[0m \u001b[0muser\u001b[0m \u001b[0;32min\u001b[0m \u001b[0mlist_of_users\u001b[0m\u001b[0;34m:\u001b[0m\u001b[0;34m\u001b[0m\u001b[0;34m\u001b[0m\u001b[0m\n\u001b[0;32m----> 3\u001b[0;31m     \u001b[0mthis_user\u001b[0m \u001b[0;34m=\u001b[0m \u001b[0mGitHubUser\u001b[0m\u001b[0;34m(\u001b[0m\u001b[0muser\u001b[0m\u001b[0;34m)\u001b[0m\u001b[0;34m\u001b[0m\u001b[0;34m\u001b[0m\u001b[0m\n\u001b[0m\u001b[1;32m      4\u001b[0m     \u001b[0mprint\u001b[0m\u001b[0;34m(\u001b[0m\u001b[0mthis_user\u001b[0m\u001b[0;34m.\u001b[0m\u001b[0mverify_github_user\u001b[0m\u001b[0;34m(\u001b[0m\u001b[0;34m)\u001b[0m\u001b[0;34m)\u001b[0m\u001b[0;34m\u001b[0m\u001b[0;34m\u001b[0m\u001b[0m\n",
      "\u001b[0;31mNameError\u001b[0m: name 'GitHubUser' is not defined"
     ]
    }
   ],
   "source": [
    "list_of_users = ['detaer', 'cpleasants']\n",
    "for user in list_of_users:\n",
    "    this_user = GitHubUser(user)\n",
    "    print(this_user.verify_github_user())"
   ]
  },
  {
   "cell_type": "code",
   "execution_count": 40,
   "metadata": {},
   "outputs": [
    {
     "ename": "NameError",
     "evalue": "name 'GitHubUser' is not defined",
     "output_type": "error",
     "traceback": [
      "\u001b[0;31m---------------------------------------------------------------------------\u001b[0m",
      "\u001b[0;31mNameError\u001b[0m                                 Traceback (most recent call last)",
      "\u001b[0;32m<ipython-input-40-cc181cec790b>\u001b[0m in \u001b[0;36m<module>\u001b[0;34m()\u001b[0m\n\u001b[0;32m----> 1\u001b[0;31m \u001b[0mdetaer\u001b[0m \u001b[0;34m=\u001b[0m \u001b[0mGitHubUser\u001b[0m\u001b[0;34m(\u001b[0m\u001b[0;34m'detaer'\u001b[0m\u001b[0;34m)\u001b[0m\u001b[0;34m\u001b[0m\u001b[0;34m\u001b[0m\u001b[0m\n\u001b[0m\u001b[1;32m      2\u001b[0m \u001b[0mcpleasants\u001b[0m \u001b[0;34m=\u001b[0m \u001b[0mGitHubUser\u001b[0m\u001b[0;34m(\u001b[0m\u001b[0;34m'cpleasants'\u001b[0m\u001b[0;34m)\u001b[0m\u001b[0;34m\u001b[0m\u001b[0;34m\u001b[0m\u001b[0m\n",
      "\u001b[0;31mNameError\u001b[0m: name 'GitHubUser' is not defined"
     ]
    }
   ],
   "source": [
    "detaer = GitHubUser('detaer')\n",
    "cpleasants = GitHubUser('cpleasants')"
   ]
  },
  {
   "cell_type": "code",
   "execution_count": 41,
   "metadata": {},
   "outputs": [
    {
     "ename": "NameError",
     "evalue": "name 'detaer' is not defined",
     "output_type": "error",
     "traceback": [
      "\u001b[0;31m---------------------------------------------------------------------------\u001b[0m",
      "\u001b[0;31mNameError\u001b[0m                                 Traceback (most recent call last)",
      "\u001b[0;32m<ipython-input-41-2892584beaf6>\u001b[0m in \u001b[0;36m<module>\u001b[0;34m()\u001b[0m\n\u001b[1;32m      2\u001b[0m \u001b[0mtypes\u001b[0m \u001b[0;34m=\u001b[0m \u001b[0;34m[\u001b[0m\u001b[0;34m]\u001b[0m\u001b[0;34m\u001b[0m\u001b[0;34m\u001b[0m\u001b[0m\n\u001b[1;32m      3\u001b[0m \u001b[0mtimes\u001b[0m \u001b[0;34m=\u001b[0m \u001b[0;34m[\u001b[0m\u001b[0;34m]\u001b[0m\u001b[0;34m\u001b[0m\u001b[0;34m\u001b[0m\u001b[0m\n\u001b[0;32m----> 4\u001b[0;31m \u001b[0;32mfor\u001b[0m \u001b[0mactivity\u001b[0m \u001b[0;32min\u001b[0m \u001b[0mdetaer\u001b[0m\u001b[0;34m.\u001b[0m\u001b[0mget_github_user_activity\u001b[0m\u001b[0;34m(\u001b[0m\u001b[0;34m)\u001b[0m\u001b[0;34m:\u001b[0m\u001b[0;34m\u001b[0m\u001b[0;34m\u001b[0m\u001b[0m\n\u001b[0m\u001b[1;32m      5\u001b[0m     \u001b[0mids\u001b[0m\u001b[0;34m.\u001b[0m\u001b[0mappend\u001b[0m\u001b[0;34m(\u001b[0m\u001b[0mactivity\u001b[0m\u001b[0;34m[\u001b[0m\u001b[0;34m'id'\u001b[0m\u001b[0;34m]\u001b[0m\u001b[0;34m)\u001b[0m\u001b[0;34m\u001b[0m\u001b[0;34m\u001b[0m\u001b[0m\n\u001b[1;32m      6\u001b[0m     \u001b[0mtypes\u001b[0m\u001b[0;34m.\u001b[0m\u001b[0mappend\u001b[0m\u001b[0;34m(\u001b[0m\u001b[0mactivity\u001b[0m\u001b[0;34m[\u001b[0m\u001b[0;34m'type'\u001b[0m\u001b[0;34m]\u001b[0m\u001b[0;34m)\u001b[0m\u001b[0;34m\u001b[0m\u001b[0;34m\u001b[0m\u001b[0m\n",
      "\u001b[0;31mNameError\u001b[0m: name 'detaer' is not defined"
     ]
    }
   ],
   "source": [
    "ids = []\n",
    "types = []\n",
    "times = []\n",
    "for activity in detaer.get_github_user_activity():\n",
    "    ids.append(activity['id'])\n",
    "    types.append(activity['type'])\n",
    "    times.append(activity['created_at'])\n",
    "    \n",
    "df = pd.DataFrame({'id' : ids,\n",
    "         'type' : types,\n",
    "         'created_at' : times})"
   ]
  },
  {
   "cell_type": "code",
   "execution_count": 42,
   "metadata": {},
   "outputs": [
    {
     "ename": "SyntaxError",
     "evalue": "invalid syntax (<ipython-input-42-0db7170d10ef>, line 1)",
     "output_type": "error",
     "traceback": [
      "\u001b[0;36m  File \u001b[0;32m\"<ipython-input-42-0db7170d10ef>\"\u001b[0;36m, line \u001b[0;32m1\u001b[0m\n\u001b[0;31m    `df['created_at'] = pd.to_datetime(df['created_at'])`\u001b[0m\n\u001b[0m    ^\u001b[0m\n\u001b[0;31mSyntaxError\u001b[0m\u001b[0;31m:\u001b[0m invalid syntax\n"
     ]
    }
   ],
   "source": [
    "`df['created_at'] = pd.to_datetime(df['created_at'])`\n",
    "`df['hour_of_day'] = df.created_at.dt.hour`"
   ]
  },
  {
   "cell_type": "code",
   "execution_count": 43,
   "metadata": {},
   "outputs": [
    {
     "ename": "NameError",
     "evalue": "name 'df' is not defined",
     "output_type": "error",
     "traceback": [
      "\u001b[0;31m---------------------------------------------------------------------------\u001b[0m",
      "\u001b[0;31mNameError\u001b[0m                                 Traceback (most recent call last)",
      "\u001b[0;32m<ipython-input-43-a7fd5d7c5376>\u001b[0m in \u001b[0;36m<module>\u001b[0;34m()\u001b[0m\n\u001b[1;32m      1\u001b[0m \u001b[0;32mfrom\u001b[0m \u001b[0mdatetime\u001b[0m \u001b[0;32mimport\u001b[0m \u001b[0mtimedelta\u001b[0m\u001b[0;34m\u001b[0m\u001b[0;34m\u001b[0m\u001b[0m\n\u001b[0;32m----> 2\u001b[0;31m \u001b[0mdf\u001b[0m\u001b[0;34m[\u001b[0m\u001b[0;34m'created_at'\u001b[0m\u001b[0;34m]\u001b[0m \u001b[0;34m+\u001b[0m \u001b[0mtimedelta\u001b[0m\u001b[0;34m(\u001b[0m\u001b[0mhours\u001b[0m \u001b[0;34m=\u001b[0m \u001b[0;36m8\u001b[0m\u001b[0;34m)\u001b[0m\u001b[0;34m\u001b[0m\u001b[0;34m\u001b[0m\u001b[0m\n\u001b[0m",
      "\u001b[0;31mNameError\u001b[0m: name 'df' is not defined"
     ]
    }
   ],
   "source": [
    "from datetime import timedelta\n",
    "df['created_at'] + timedelta(hours = 8)"
   ]
  },
  {
   "cell_type": "code",
   "execution_count": null,
   "metadata": {},
   "outputs": [],
   "source": [
    "%matplotlib inline"
   ]
  }
 ],
 "metadata": {
  "kernelspec": {
   "display_name": "Python 3",
   "language": "python",
   "name": "python3"
  },
  "language_info": {
   "codemirror_mode": {
    "name": "ipython",
    "version": 3
   },
   "file_extension": ".py",
   "mimetype": "text/x-python",
   "name": "python",
   "nbconvert_exporter": "python",
   "pygments_lexer": "ipython3",
   "version": "3.7.2"
  }
 },
 "nbformat": 4,
 "nbformat_minor": 2
}
