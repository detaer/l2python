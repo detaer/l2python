{
 "cells": [
  {
   "cell_type": "code",
   "execution_count": 46,
   "metadata": {},
   "outputs": [
    {
     "name": "stdout",
     "output_type": "stream",
     "text": [
      "            id       type          created_at\n",
      "0   8998757717  PushEvent 2019-02-03 01:19:45\n",
      "1   8998725844  PushEvent 2019-02-03 00:56:14\n",
      "2   8998031924  PushEvent 2019-02-02 18:00:27\n",
      "3   8990878713  PushEvent 2019-02-01 07:16:36\n",
      "4   8847273697  PushEvent 2019-01-08 00:54:36\n",
      "5   8826285915  PushEvent 2019-01-03 01:00:56\n",
      "6   8826138946  PushEvent 2019-01-03 00:02:30\n",
      "7   8782745390  PushEvent 2018-12-20 01:49:21\n",
      "8   8782632252  PushEvent 2018-12-20 01:13:05\n",
      "9   8776236396  PushEvent 2018-12-19 03:08:32\n",
      "10  8776073669  PushEvent 2018-12-19 02:17:14\n",
      "11  8769161457  PushEvent 2018-12-18 02:33:30\n",
      "12  8769093296  PushEvent 2018-12-18 02:12:07\n",
      "13  8768682256  PushEvent 2018-12-18 00:06:14\n",
      "14  8768678927  PushEvent 2018-12-18 00:05:15\n",
      "15  8768538023  PushEvent 2018-12-17 23:26:33\n",
      "16  8768524198  PushEvent 2018-12-17 23:23:00\n",
      "17  8745419501  PushEvent 2018-12-13 02:39:52\n",
      "18  8745090090  PushEvent 2018-12-13 00:59:59\n",
      "19  8738690981  PushEvent 2018-12-12 04:34:32\n",
      "20  8730744913  PushEvent 2018-12-11 00:58:59\n",
      "21  8712770818  PushEvent 2018-12-06 23:27:10\n",
      "22  8706224042  PushEvent 2018-12-06 01:45:28\n",
      "23  8706151141  PushEvent 2018-12-06 01:24:37\n",
      "24  8706081224  PushEvent 2018-12-06 01:04:54\n",
      "25  8699194411  PushEvent 2018-12-05 02:55:59\n",
      "26  8699190014  PushEvent 2018-12-05 02:54:48\n",
      "27  8699005176  PushEvent 2018-12-05 02:00:40\n",
      "28  8698950676  PushEvent 2018-12-05 01:45:39\n",
      "29  8691611959  PushEvent 2018-12-04 02:09:30\n",
      "            id       type          created_at\n",
      "0   8998757717  PushEvent 2019-02-03 01:19:45\n",
      "1   8998725844  PushEvent 2019-02-03 00:56:14\n",
      "2   8998031924  PushEvent 2019-02-02 18:00:27\n",
      "3   8990878713  PushEvent 2019-02-01 07:16:36\n",
      "4   8847273697  PushEvent 2019-01-08 00:54:36\n",
      "5   8826285915  PushEvent 2019-01-03 01:00:56\n",
      "6   8826138946  PushEvent 2019-01-03 00:02:30\n",
      "7   8782745390  PushEvent 2018-12-20 01:49:21\n",
      "8   8782632252  PushEvent 2018-12-20 01:13:05\n",
      "9   8776236396  PushEvent 2018-12-19 03:08:32\n",
      "10  8776073669  PushEvent 2018-12-19 02:17:14\n",
      "11  8769161457  PushEvent 2018-12-18 02:33:30\n",
      "12  8769093296  PushEvent 2018-12-18 02:12:07\n",
      "13  8768682256  PushEvent 2018-12-18 00:06:14\n",
      "14  8768678927  PushEvent 2018-12-18 00:05:15\n",
      "15  8768538023  PushEvent 2018-12-17 23:26:33\n",
      "16  8768524198  PushEvent 2018-12-17 23:23:00\n",
      "17  8745419501  PushEvent 2018-12-13 02:39:52\n",
      "18  8745090090  PushEvent 2018-12-13 00:59:59\n",
      "19  8738690981  PushEvent 2018-12-12 04:34:32\n",
      "20  8730744913  PushEvent 2018-12-11 00:58:59\n",
      "21  8712770818  PushEvent 2018-12-06 23:27:10\n",
      "22  8706224042  PushEvent 2018-12-06 01:45:28\n",
      "23  8706151141  PushEvent 2018-12-06 01:24:37\n",
      "24  8706081224  PushEvent 2018-12-06 01:04:54\n",
      "25  8699194411  PushEvent 2018-12-05 02:55:59\n",
      "26  8699190014  PushEvent 2018-12-05 02:54:48\n",
      "27  8699005176  PushEvent 2018-12-05 02:00:40\n",
      "28  8698950676  PushEvent 2018-12-05 01:45:39\n",
      "29  8691611959  PushEvent 2018-12-04 02:09:30\n"
     ]
    }
   ],
   "source": [
    "import pandas as pd\n",
    "import matplotlib\n",
    "import requests\n",
    "from datetime import timedelta\n",
    "\n",
    "GitHubUserURLBase = \"https://api.github.com/users/\"\n",
    "GitHubPublicEvents = \"/events/public\"\n",
    "\n",
    "class GitHubUser:\n",
    "    def __init__(self, username):\n",
    "        self.username = username\n",
    "    def get_github_user(self):\n",
    "        UserInfo = requests.get(GitHubUserURLBase + self.username)\n",
    "        UserInfoUsable = UserInfo.json()\n",
    "        return(UserInfoUsable)\n",
    "    def verify_github_user(self):\n",
    "        UserInfo = self.get_github_user()\n",
    "        if 'login' in UserInfo:\n",
    "            return(\"User_Exists\")\n",
    "        else:\n",
    "            raise ValueError(\"Not a valid GitHub user\")\n",
    "    def get_github_user_activity(self):\n",
    "        UserActivity = requests.get(GitHubUserURLBase + self.username + GitHubPublicEvents ) # + \"?page=\" + PageStr\n",
    "        UserActivityPage = UserActivity.json()\n",
    "        return(UserActivityPage)\n",
    "\n",
    "##create a method to plot the daily activity of a user week over week day over day then display it\n",
    "def UserActivityFrame(userevents):\n",
    "    ids = []\n",
    "    types = []\n",
    "    times = []\n",
    "    for activity in userevents:\n",
    "        ids.append(activity['id'])\n",
    "        types.append(activity['type'])\n",
    "        times.append(activity['created_at'])\n",
    "    df = pd.DataFrame({'id' : ids,\n",
    "         'type' : types,\n",
    "         'created_at' : times})\n",
    "    df['created_at'] = pd.to_datetime(df['created_at'])\n",
    "    df['created_at'] + timedelta(hours = 8)\n",
    "    return(df)\n",
    "\n",
    "# df['hour_of_day'] = df.created_at.dt.hour\n",
    "# df['created_at'] + timedelta(hours = 8)\n",
    "# print(df)\n",
    "\n",
    "Detaer = GitHubUser(\"detaer\")\n",
    "DetaerEvents = Detaer.get_github_user_activity()\n",
    "print(UserActivityFrame(DetaerEvents))\n",
    "\n",
    "##create a method to plot the hourly activity of a user day over day then display it\n",
    "\n",
    "##create main - this will need to take user input of the git hub username\n",
    "##TODO take the input as a string (can't figure this out right now)\n",
    "# def main():\n",
    "#     UserName = input(\"Enter the GitHub username of the person you want to creep on:\")\n",
    "#     User = GitHubUser(UserName)\n",
    "#     ##do a try except to throw an error if the user isn't real, if the user is real, grab their public activity\n",
    "#     try:\n",
    "#         TestUser = User.verify_github_user()\n",
    "        \n",
    "#     except:\n",
    "#         print(\"User is not a valid github user!\")    \n",
    "\n",
    "# if __name__ == '__main__':\n",
    "#     main()\n"
   ]
  },
  {
   "cell_type": "code",
   "execution_count": 41,
   "metadata": {},
   "outputs": [
    {
     "ename": "NameError",
     "evalue": "name 'detaer' is not defined",
     "output_type": "error",
     "traceback": [
      "\u001b[0;31m---------------------------------------------------------------------------\u001b[0m",
      "\u001b[0;31mNameError\u001b[0m                                 Traceback (most recent call last)",
      "\u001b[0;32m<ipython-input-41-2892584beaf6>\u001b[0m in \u001b[0;36m<module>\u001b[0;34m()\u001b[0m\n\u001b[1;32m      2\u001b[0m \u001b[0mtypes\u001b[0m \u001b[0;34m=\u001b[0m \u001b[0;34m[\u001b[0m\u001b[0;34m]\u001b[0m\u001b[0;34m\u001b[0m\u001b[0;34m\u001b[0m\u001b[0m\n\u001b[1;32m      3\u001b[0m \u001b[0mtimes\u001b[0m \u001b[0;34m=\u001b[0m \u001b[0;34m[\u001b[0m\u001b[0;34m]\u001b[0m\u001b[0;34m\u001b[0m\u001b[0;34m\u001b[0m\u001b[0m\n\u001b[0;32m----> 4\u001b[0;31m \u001b[0;32mfor\u001b[0m \u001b[0mactivity\u001b[0m \u001b[0;32min\u001b[0m \u001b[0mdetaer\u001b[0m\u001b[0;34m.\u001b[0m\u001b[0mget_github_user_activity\u001b[0m\u001b[0;34m(\u001b[0m\u001b[0;34m)\u001b[0m\u001b[0;34m:\u001b[0m\u001b[0;34m\u001b[0m\u001b[0;34m\u001b[0m\u001b[0m\n\u001b[0m\u001b[1;32m      5\u001b[0m     \u001b[0mids\u001b[0m\u001b[0;34m.\u001b[0m\u001b[0mappend\u001b[0m\u001b[0;34m(\u001b[0m\u001b[0mactivity\u001b[0m\u001b[0;34m[\u001b[0m\u001b[0;34m'id'\u001b[0m\u001b[0;34m]\u001b[0m\u001b[0;34m)\u001b[0m\u001b[0;34m\u001b[0m\u001b[0;34m\u001b[0m\u001b[0m\n\u001b[1;32m      6\u001b[0m     \u001b[0mtypes\u001b[0m\u001b[0;34m.\u001b[0m\u001b[0mappend\u001b[0m\u001b[0;34m(\u001b[0m\u001b[0mactivity\u001b[0m\u001b[0;34m[\u001b[0m\u001b[0;34m'type'\u001b[0m\u001b[0;34m]\u001b[0m\u001b[0;34m)\u001b[0m\u001b[0;34m\u001b[0m\u001b[0;34m\u001b[0m\u001b[0m\n",
      "\u001b[0;31mNameError\u001b[0m: name 'detaer' is not defined"
     ]
    }
   ],
   "source": [
    "ids = []\n",
    "types = []\n",
    "times = []\n",
    "for activity in detaer.get_github_user_activity():\n",
    "    ids.append(activity['id'])\n",
    "    types.append(activity['type'])\n",
    "    times.append(activity['created_at'])\n",
    "    \n",
    "df = pd.DataFrame({'id' : ids,\n",
    "         'type' : types,\n",
    "         'created_at' : times})"
   ]
  },
  {
   "cell_type": "code",
   "execution_count": 42,
   "metadata": {},
   "outputs": [
    {
     "ename": "SyntaxError",
     "evalue": "invalid syntax (<ipython-input-42-0db7170d10ef>, line 1)",
     "output_type": "error",
     "traceback": [
      "\u001b[0;36m  File \u001b[0;32m\"<ipython-input-42-0db7170d10ef>\"\u001b[0;36m, line \u001b[0;32m1\u001b[0m\n\u001b[0;31m    `df['created_at'] = pd.to_datetime(df['created_at'])`\u001b[0m\n\u001b[0m    ^\u001b[0m\n\u001b[0;31mSyntaxError\u001b[0m\u001b[0;31m:\u001b[0m invalid syntax\n"
     ]
    }
   ],
   "source": [
    "`df['created_at'] = pd.to_datetime(df['created_at'])`\n",
    "`df['hour_of_day'] = df.created_at.dt.hour`"
   ]
  },
  {
   "cell_type": "code",
   "execution_count": 43,
   "metadata": {},
   "outputs": [
    {
     "ename": "NameError",
     "evalue": "name 'df' is not defined",
     "output_type": "error",
     "traceback": [
      "\u001b[0;31m---------------------------------------------------------------------------\u001b[0m",
      "\u001b[0;31mNameError\u001b[0m                                 Traceback (most recent call last)",
      "\u001b[0;32m<ipython-input-43-a7fd5d7c5376>\u001b[0m in \u001b[0;36m<module>\u001b[0;34m()\u001b[0m\n\u001b[1;32m      1\u001b[0m \u001b[0;32mfrom\u001b[0m \u001b[0mdatetime\u001b[0m \u001b[0;32mimport\u001b[0m \u001b[0mtimedelta\u001b[0m\u001b[0;34m\u001b[0m\u001b[0;34m\u001b[0m\u001b[0m\n\u001b[0;32m----> 2\u001b[0;31m \u001b[0mdf\u001b[0m\u001b[0;34m[\u001b[0m\u001b[0;34m'created_at'\u001b[0m\u001b[0;34m]\u001b[0m \u001b[0;34m+\u001b[0m \u001b[0mtimedelta\u001b[0m\u001b[0;34m(\u001b[0m\u001b[0mhours\u001b[0m \u001b[0;34m=\u001b[0m \u001b[0;36m8\u001b[0m\u001b[0;34m)\u001b[0m\u001b[0;34m\u001b[0m\u001b[0;34m\u001b[0m\u001b[0m\n\u001b[0m",
      "\u001b[0;31mNameError\u001b[0m: name 'df' is not defined"
     ]
    }
   ],
   "source": [
    "from datetime import timedelta\n",
    "df['created_at'] + timedelta(hours = 8)"
   ]
  },
  {
   "cell_type": "code",
   "execution_count": null,
   "metadata": {},
   "outputs": [],
   "source": [
    "%matplotlib inline"
   ]
  }
 ],
 "metadata": {
  "kernelspec": {
   "display_name": "Python 3",
   "language": "python",
   "name": "python3"
  },
  "language_info": {
   "codemirror_mode": {
    "name": "ipython",
    "version": 3
   },
   "file_extension": ".py",
   "mimetype": "text/x-python",
   "name": "python",
   "nbconvert_exporter": "python",
   "pygments_lexer": "ipython3",
   "version": "3.7.2"
  }
 },
 "nbformat": 4,
 "nbformat_minor": 2
}
