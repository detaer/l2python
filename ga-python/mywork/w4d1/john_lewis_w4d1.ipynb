{
 "cells": [
  {
   "cell_type": "code",
   "execution_count": 9,
   "metadata": {},
   "outputs": [
    {
     "name": "stdout",
     "output_type": "stream",
     "text": [
      "How are the Jags doing?\n",
      "\n",
      "We have offense: True\n",
      "We have defense: True\n",
      "We have some rule changes: True\n",
      "We're going to the Super Bowl!\n"
     ]
    }
   ],
   "source": [
    "class Football_Team():\n",
    "\n",
    "    def __init__(self):\n",
    "        self.offense = False\n",
    "        self.defense = False\n",
    "        self.rule_changes = False\n",
    "\n",
    "    def get_offense(self):\n",
    "        self.offense = True\n",
    "        return self.offense\n",
    "\n",
    "    def get_defense(self):\n",
    "        self.defense = True\n",
    "        return self.defense\n",
    "\n",
    "    def get_rule_changes(self):\n",
    "        self.rule_changes = True\n",
    "        return self.rule_changes\n",
    "\n",
    "jaguars = Football_Team()\n",
    "\n",
    "offense = jaguars.get_offense()\n",
    "defense = jaguars.get_defense()\n",
    "\n",
    "if jaguars.offense and jaguars.defense:\n",
    "    rule_changes = jaguars.get_rule_changes()\n",
    "\n",
    "print(\"How are the Jags doing?\\n\")\n",
    "print(\"We have offense:\", offense)\n",
    "print(\"We have defense:\", defense)\n",
    "print(\"We have some rule changes:\", rule_changes)\n",
    "\n",
    "if offense and defense and rule_changes:\n",
    "    print(\"We're going to the Super Bowl!\")\n",
    "else:\n",
    "    print(\"I can't predict the future, but no, the Jaguars will never win the Super Bowl.\")\n",
    "\n"
   ]
  },
  {
   "cell_type": "code",
   "execution_count": 10,
   "metadata": {},
   "outputs": [
    {
     "name": "stdout",
     "output_type": "stream",
     "text": [
      "1. Coercion is another term for which of the following concepts in Python?\n",
      "d) Implicit type conversion\n",
      "\n",
      "2. Type casting is another term for which of the following concepts in Python?\n",
      "c) Explicit type conversion\n",
      "\n",
      "3. What function in Python can we use to check a variable's type?\n",
      "a) type()\n",
      "\n",
      "4. Which of the following is NOT a primitive data structure?\n",
      "c) List\n",
      "\n",
      "5. According to the article, what is the main reason to convert a tuple into a list?\n",
      "Tuples are immutable data type and allows substantial optimization to the programs that you create.\n"
     ]
    }
   ],
   "source": [
    "print(\"1. Coercion is another term for which of the following concepts in Python?\\n\",\"d) Implicit type conversion\", sep='')\n",
    "print(\"\")\n",
    "print(\"2. Type casting is another term for which of the following concepts in Python?\\n\",\"c) Explicit type conversion\", sep='')\n",
    "print(\"\")\n",
    "print(\"3. What function in Python can we use to check a variable's type?\\n\",\"a) type()\", sep='')\n",
    "print(\"\")\n",
    "print(\"4. Which of the following is NOT a primitive data structure?\\n\",\"c) List\", sep='')\n",
    "print(\"\")\n",
    "print(\"5. According to the article, what is the main reason to convert a tuple into a list?\\n\",\"Tuples are immutable data type and allows substantial optimization to the programs that you create.\", sep='')\n"
   ]
  }
 ],
 "metadata": {
  "file_extension": ".py",
  "kernelspec": {
   "display_name": "Python 3",
   "language": "python",
   "name": "python3"
  },
  "language_info": {
   "codemirror_mode": {
    "name": "ipython",
    "version": 3
   },
   "file_extension": ".py",
   "mimetype": "text/x-python",
   "name": "python",
   "nbconvert_exporter": "python",
   "pygments_lexer": "ipython3",
   "version": "3.7.0"
  },
  "mimetype": "text/x-python",
  "name": "python",
  "npconvert_exporter": "python",
  "pygments_lexer": "ipython3",
  "version": 3
 },
 "nbformat": 4,
 "nbformat_minor": 2
}
